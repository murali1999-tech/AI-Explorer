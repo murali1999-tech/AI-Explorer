import pandas as pd

data = pd.read_csv('data.csv')

from sklearn.model_selection import train_test_split

train_data, test_data = train_test_split(data, test_size=0.3, random_state=42)

from sklearn.preprocessing import OneHotEncoder

encoder = OneHotEncoder()
encoder.fit(train_data[['feature_3']])

train_data_encoded = encoder.transform(train_data[['feature_3']])
test_data_encoded = encoder.transform(test_data[['feature_3']])
from sklearn.preprocessing import StandardScaler

scaler = StandardScaler()
scaler.fit(train_data[['feature_1', 'feature_2']])

train_data_normalized = scaler.transform(train_data[['feature_1', 'feature_2']])
test_data_normalized = scaler.transform(test_data[['feature_1', 'feature_2']])

train_data_preprocessed = pd.concat([pd.DataFrame(train_data_normalized), pd.DataFrame(train_data_encoded.toarray())], axis=1)
test_data_preprocessed = pd.concat([pd.DataFrame(test_data_normalized), pd.DataFrame(test_data_encoded.toarray())], axis=1)

train_data_preprocessed.to_csv('train_data_preprocessed.csv', index=False)
test_data_preprocessed.to_csv('test_data_preprocessed.csv', index=False)

